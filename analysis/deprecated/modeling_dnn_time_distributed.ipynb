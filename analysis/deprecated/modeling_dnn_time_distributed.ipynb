{
 "cells": [
  {
   "cell_type": "code",
   "execution_count": 1,
   "metadata": {},
   "outputs": [],
   "source": [
    "import os\n",
    "import sys\n",
    "sys.path.insert(0, './utils/')\n",
    "from utils import load_data, normalize_data, format_data, split_data\n",
    "from utils import train_model, plot_train_val, forecast, forecast_analysis, experiment\n"
   ]
  },
  {
   "cell_type": "code",
   "execution_count": 2,
   "metadata": {},
   "outputs": [],
   "source": [
    "# https://datamarket.com/data/set/22ox/monthly-milk-production-pounds-per-cow-jan-62-dec-75#!ds=22ox&display=line\n",
    "import matplotlib.pyplot as plt\n",
    "import numpy as np\n",
    "import pandas as pd\n",
    "from tensorflow.keras import Input, Model\n",
    "from tensorflow.keras.layers import Dense, TimeDistributed, Reshape, Flatten, Dropout\n",
    "from tensorflow.keras.layers import BatchNormalization, GlobalAveragePooling1D\n",
    "import math\n",
    "from sklearn.metrics import mean_squared_error, mean_absolute_error\n",
    "from copy import copy\n",
    "from tensorflow.keras import backend as K\n",
    "from sklearn import preprocessing\n",
    "import tensorflow.keras.optimizers as optimizers\n",
    "from sklearn.metrics import mean_squared_error, mean_absolute_error\n",
    "import time"
   ]
  },
  {
   "cell_type": "markdown",
   "metadata": {},
   "source": [
    "## Model with Dense layers over time steps"
   ]
  },
  {
   "cell_type": "code",
   "execution_count": 3,
   "metadata": {},
   "outputs": [],
   "source": [
    "def get_model_dense(input_shape):\n",
    "    i = Input(shape=(input_shape))\n",
    "    print(i.shape)\n",
    "    m = i\n",
    "    m = Dense(500, activation='relu')(m)\n",
    "    m = BatchNormalization()(m)\n",
    "    m = Dense(200, activation='relu')(m)\n",
    "    m = Dense(1, activation='relu')(m)\n",
    "    m = GlobalAveragePooling1D()(m)\n",
    "    \n",
    "    model = Model(inputs=[i], outputs=[m])\n",
    "\n",
    "    optimizer=optimizers.Adam(lr=5e-6)\n",
    "    model.compile(optimizer, 'mae')\n",
    "    return model"
   ]
  },
  {
   "cell_type": "markdown",
   "metadata": {},
   "source": [
    "## Model with TimeDistributed wrapper"
   ]
  },
  {
   "cell_type": "code",
   "execution_count": 4,
   "metadata": {},
   "outputs": [],
   "source": [
    "def get_model_timedist(input_shape):\n",
    "    i = Input(shape=(input_shape))\n",
    "    print(i.shape)\n",
    "    m = i\n",
    "    m = TimeDistributed(Dense(500, activation='relu'))(m)\n",
    "    m = BatchNormalization()(m)\n",
    "    m = TimeDistributed(Dense(200, activation='relu'))(m)\n",
    "    m = TimeDistributed(Dense(1, activation='relu'))(m)\n",
    "    m = GlobalAveragePooling1D()(m) #avg pool or m =  Flatten()(m) m = Dense(1, activation='relu')(m)\n",
    "    \n",
    "    model = Model(inputs=[i], outputs=[m])\n",
    "\n",
    "    optimizer=optimizers.Adam(lr=5e-6)\n",
    "    model.compile(optimizer, 'mae')\n",
    "    return model"
   ]
  },
  {
   "cell_type": "markdown",
   "metadata": {},
   "source": [
    "### San Juan"
   ]
  },
  {
   "cell_type": "code",
   "execution_count": 5,
   "metadata": {},
   "outputs": [
    {
     "name": "stderr",
     "output_type": "stream",
     "text": [
      "WARNING: Logging before flag parsing goes to stderr.\n",
      "W1001 23:59:37.446629 140043494590272 deprecation.py:506] From /usr/local/lib/python3.6/dist-packages/tensorflow/python/ops/init_ops.py:1251: calling VarianceScaling.__init__ (from tensorflow.python.ops.init_ops) with dtype is deprecated and will be removed in a future version.\n",
      "Instructions for updating:\n",
      "Call initializer instance with the dtype argument instead of passing it to the constructor\n"
     ]
    },
    {
     "name": "stdout",
     "output_type": "stream",
     "text": [
      "(?, 23, 170)\n"
     ]
    },
    {
     "ename": "KeyError",
     "evalue": "'verbose'",
     "output_type": "error",
     "traceback": [
      "\u001b[0;31m---------------------------------------------------------------------------\u001b[0m",
      "\u001b[0;31mKeyError\u001b[0m                                  Traceback (most recent call last)",
      "\u001b[0;32m<ipython-input-5-5c2a05624583>\u001b[0m in \u001b[0;36m<module>\u001b[0;34m\u001b[0m\n\u001b[1;32m      5\u001b[0m     \u001b[0;34m'city'\u001b[0m\u001b[0;34m:\u001b[0m\u001b[0;34m'sj'\u001b[0m\u001b[0;34m\u001b[0m\u001b[0;34m\u001b[0m\u001b[0m\n\u001b[1;32m      6\u001b[0m }\n\u001b[0;32m----> 7\u001b[0;31m \u001b[0mdf_results_sj\u001b[0m \u001b[0;34m=\u001b[0m \u001b[0mexperiment\u001b[0m\u001b[0;34m(\u001b[0m\u001b[0mget_model_dense\u001b[0m\u001b[0;34m,\u001b[0m \u001b[0mhyperparameters\u001b[0m\u001b[0;34m)\u001b[0m\u001b[0;34m\u001b[0m\u001b[0;34m\u001b[0m\u001b[0m\n\u001b[0m",
      "\u001b[0;32m/tf/analysis/utils/utils.py\u001b[0m in \u001b[0;36mexperiment\u001b[0;34m(model_fn, hyperp)\u001b[0m\n\u001b[1;32m    177\u001b[0m     \u001b[0minput_shape\u001b[0m \u001b[0;34m=\u001b[0m \u001b[0;34m(\u001b[0m\u001b[0mx\u001b[0m\u001b[0;34m.\u001b[0m\u001b[0mshape\u001b[0m\u001b[0;34m[\u001b[0m\u001b[0;36m1\u001b[0m\u001b[0;34m]\u001b[0m\u001b[0;34m,\u001b[0m \u001b[0mx\u001b[0m\u001b[0;34m.\u001b[0m\u001b[0mshape\u001b[0m\u001b[0;34m[\u001b[0m\u001b[0;36m2\u001b[0m\u001b[0;34m]\u001b[0m\u001b[0;34m)\u001b[0m\u001b[0;34m\u001b[0m\u001b[0;34m\u001b[0m\u001b[0m\n\u001b[1;32m    178\u001b[0m     \u001b[0mmodel\u001b[0m \u001b[0;34m=\u001b[0m \u001b[0mmodel_fn\u001b[0m\u001b[0;34m(\u001b[0m\u001b[0minput_shape\u001b[0m\u001b[0;34m)\u001b[0m\u001b[0;34m\u001b[0m\u001b[0;34m\u001b[0m\u001b[0m\n\u001b[0;32m--> 179\u001b[0;31m     \u001b[0mtrain_model\u001b[0m\u001b[0;34m(\u001b[0m\u001b[0mmodel\u001b[0m\u001b[0;34m,\u001b[0m \u001b[0mdata\u001b[0m\u001b[0;34m,\u001b[0m \u001b[0mepochs\u001b[0m\u001b[0;34m=\u001b[0m\u001b[0mhyperp\u001b[0m\u001b[0;34m[\u001b[0m\u001b[0;34m'epochs'\u001b[0m\u001b[0;34m]\u001b[0m\u001b[0;34m,\u001b[0m \u001b[0mverbose\u001b[0m\u001b[0;34m=\u001b[0m\u001b[0mhyperp\u001b[0m\u001b[0;34m[\u001b[0m\u001b[0;34m'verbose'\u001b[0m\u001b[0;34m]\u001b[0m\u001b[0;34m)\u001b[0m\u001b[0;34m\u001b[0m\u001b[0;34m\u001b[0m\u001b[0m\n\u001b[0m\u001b[1;32m    180\u001b[0m     \u001b[0mplot_train_val\u001b[0m\u001b[0;34m(\u001b[0m\u001b[0mmodel\u001b[0m\u001b[0;34m,\u001b[0m \u001b[0mdata\u001b[0m\u001b[0;34m,\u001b[0m \u001b[0my_scaler\u001b[0m\u001b[0;34m)\u001b[0m\u001b[0;34m\u001b[0m\u001b[0;34m\u001b[0m\u001b[0m\n\u001b[1;32m    181\u001b[0m     \u001b[0mdf_results\u001b[0m \u001b[0;34m=\u001b[0m \u001b[0mforecast_analysis\u001b[0m\u001b[0;34m(\u001b[0m\u001b[0mmodel\u001b[0m\u001b[0;34m,\u001b[0m \u001b[0mdata\u001b[0m\u001b[0;34m,\u001b[0m \u001b[0my_scaler\u001b[0m\u001b[0;34m)\u001b[0m\u001b[0;34m\u001b[0m\u001b[0;34m\u001b[0m\u001b[0m\n",
      "\u001b[0;31mKeyError\u001b[0m: 'verbose'"
     ]
    }
   ],
   "source": [
    "hyperparameters = {\n",
    "    'train_split_percent': 0.65,\n",
    "    'lookback_window': 170,\n",
    "    'epochs': 350,\n",
    "    'city':'sj'\n",
    "}\n",
    "df_results_sj = experiment(get_model_dense, hyperparameters)"
   ]
  },
  {
   "cell_type": "markdown",
   "metadata": {},
   "source": [
    "### Iquitos"
   ]
  },
  {
   "cell_type": "code",
   "execution_count": null,
   "metadata": {},
   "outputs": [],
   "source": [
    "hyperparameters = {\n",
    "    'train_split_percent': 0.65,\n",
    "    'lookback_window': 150,\n",
    "    'epochs': 1500,\n",
    "    'city':'iq'\n",
    "}\n",
    "df_results_iq = experiment(get_model_dense, hyperparameters)"
   ]
  },
  {
   "cell_type": "markdown",
   "metadata": {},
   "source": [
    "## Model / Train / Forecast - TimeDistributed Model"
   ]
  },
  {
   "cell_type": "markdown",
   "metadata": {},
   "source": [
    "### San Juan"
   ]
  },
  {
   "cell_type": "code",
   "execution_count": null,
   "metadata": {},
   "outputs": [],
   "source": [
    "hyperparameters = {\n",
    "    'train_split_percent': 0.65,\n",
    "    'lookback_window': 170,\n",
    "    'epochs': 350,\n",
    "    'city':'sj'\n",
    "}\n",
    "df_results_sj = experiment(get_model_timedist, hyperparameters)"
   ]
  },
  {
   "cell_type": "markdown",
   "metadata": {},
   "source": [
    "### Iquitos"
   ]
  },
  {
   "cell_type": "code",
   "execution_count": null,
   "metadata": {},
   "outputs": [],
   "source": [
    "hyperparameters = {\n",
    "    'train_split_percent': 0.65,\n",
    "    'lookback_window': 150,\n",
    "    'epochs': 600,\n",
    "    'city':'iq'\n",
    "}\n",
    "df_results_iq = experiment(get_model_timedist, hyperparameters)"
   ]
  }
 ],
 "metadata": {
  "kernelspec": {
   "display_name": "Python 3",
   "language": "python",
   "name": "python3"
  },
  "language_info": {
   "codemirror_mode": {
    "name": "ipython",
    "version": 3
   },
   "file_extension": ".py",
   "mimetype": "text/x-python",
   "name": "python",
   "nbconvert_exporter": "python",
   "pygments_lexer": "ipython3",
   "version": "3.6.8"
  }
 },
 "nbformat": 4,
 "nbformat_minor": 2
}
