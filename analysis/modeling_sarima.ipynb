{
 "cells": [
  {
   "cell_type": "markdown",
   "metadata": {},
   "source": [
    "# WARNING\n",
    "## This is Deprecated\n",
    "- This repository was used for report 2 but it is no longer supported\n",
    "- it may as well work but we provide no guarantees"
   ]
  },
  {
   "cell_type": "code",
   "execution_count": 2,
   "metadata": {},
   "outputs": [],
   "source": [
    "import warnings\n",
    "import itertools\n",
    "import numpy as np\n",
    "import matplotlib.pyplot as plt\n",
    "warnings.filterwarnings(\"ignore\")\n",
    "plt.style.use('fivethirtyeight')\n",
    "import pandas as pd\n",
    "import statsmodels.api as sm\n",
    "import matplotlib\n",
    "import datetime as dt\n",
    "import math\n",
    "from pylab import rcParams\n",
    "from sklearn.metrics import mean_squared_error, mean_absolute_error\n",
    "from sklearn.linear_model import LinearRegression\n",
    "import seaborn as sns\n",
    "matplotlib.rcParams['axes.labelsize'] = 14\n",
    "matplotlib.rcParams['xtick.labelsize'] = 12\n",
    "matplotlib.rcParams['ytick.labelsize'] = 12\n",
    "matplotlib.rcParams['text.color'] = 'G'"
   ]
  },
  {
   "cell_type": "markdown",
   "metadata": {},
   "source": [
    "## Split data\n",
    "- Merge labels and features into one table\n",
    "- Split data from each city\n",
    "- Split train and validation tables\n"
   ]
  },
  {
   "cell_type": "code",
   "execution_count": 3,
   "metadata": {},
   "outputs": [],
   "source": [
    "train_split_size = 0.75\n",
    "\n",
    "labels = pd.read_csv('../data/dengue_labels_train.csv')\n",
    "features = pd.read_csv('../data/dengue_features_train.csv')\n",
    "df = labels.merge(features)\n",
    "\n",
    "sj_data = df[df.city == 'sj']\n",
    "iq_data = df[df.city == 'iq']\n",
    "\n",
    "sj_data = sj_data.reset_index()\n",
    "iq_data = iq_data.reset_index()\n",
    "\n",
    "\n",
    "def split(df, train_split_size):\n",
    "    train_size = int(math.ceil(len(df)*train_split_size))\n",
    "    val_size = int(math.floor((len(df)*(1-train_split_size))))\n",
    "    return df[0:train_size], df[train_size:train_size+val_size]\n",
    "\n",
    "def total_mae(len_sj, len_iq, mae_sj, mae_iq):\n",
    "    mae = (mae_sj*len_sj+mae_iq*len_iq)/(len_sj+len_iq)\n",
    "    return mae\n",
    "\n",
    "sj_train, sj_val = split(sj_data, train_split_size)\n",
    "iq_train, iq_val = split(iq_data, train_split_size)"
   ]
  },
  {
   "cell_type": "markdown",
   "metadata": {},
   "source": [
    "# Random Baseline\n",
    "\n",
    "Use each time series mean and std to generate an Normal i.i.d variable as baseline"
   ]
  },
  {
   "cell_type": "code",
   "execution_count": 4,
   "metadata": {},
   "outputs": [
    {
     "name": "stdout",
     "output_type": "stream",
     "text": [
      "San Juan Random Baseline MAE = 46.48288269377377\n",
      "Iquitos Random Baseline MAE = 46.48288269377377\n",
      "Total Validation MAE = 33.90621788227213\n"
     ]
    }
   ],
   "source": [
    "def random_baseline(train_data, val_data):\n",
    "    Y = train_data['total_cases'].values\n",
    "    ymean = np.mean(Y)\n",
    "    ystd = np.std(Y)\n",
    "    Y_val = val_data['total_cases'].values\n",
    "    Y_pred = np.random.normal(ymean, ystd, len(Y_val))\n",
    "    \n",
    "    error = mean_absolute_error(Y_val, Y_pred)\n",
    "    \n",
    "    return error\n",
    "    \n",
    "mae_sj = random_baseline(sj_train, sj_val)\n",
    "print(\"San Juan Random Baseline MAE = {}\".format(mae_sj))\n",
    "mae_iq = random_baseline(iq_train, iq_val)\n",
    "print(\"Iquitos Random Baseline MAE = {}\".format(mae_sj))\n",
    "\n",
    "\n",
    "mae_total = total_mae(len(sj_val), len(iq_val), mae_sj, mae_iq)\n",
    "print(\"Total Validation MAE = {}\".format(mae_total))\n",
    "    "
   ]
  },
  {
   "cell_type": "markdown",
   "metadata": {},
   "source": [
    "# Regression on features (No temporal Data)"
   ]
  },
  {
   "cell_type": "code",
   "execution_count": 5,
   "metadata": {},
   "outputs": [
    {
     "name": "stdout",
     "output_type": "stream",
     "text": [
      "Train MAE = 31.98444408167357\n",
      "Validation MAE = 29.823997020174605\n",
      "Train MAE = 5.40114382993373\n",
      "Validation MAE = 8.06027711034363\n",
      "Total Validation MAE = 22.05123990952068\n"
     ]
    }
   ],
   "source": [
    "def treat_features(data):\n",
    "    Y = data['total_cases'].values.reshape(-1, 1)\n",
    "    data = data.drop(['index', 'total_cases', 'city', 'year', 'week_start_date', 'weekofyear'], axis=1)\n",
    "    data.fillna(method='ffill', inplace=True)\n",
    "    data.fillna(method='bfill', inplace=True)\n",
    "    X = (data - data.mean()) / (data.max() - data.min())\n",
    "    X = X.values\n",
    "    return X, Y\n",
    "\n",
    "\n",
    "def feature_regression(train_data, val_data):\n",
    "\n",
    "    linear_regressor = LinearRegression()  # create object for the class\n",
    "\n",
    "    X, Y = treat_features(train_data)\n",
    "    linear_regressor.fit(X, Y)  # perform linear regression\n",
    "    Y_pred = linear_regressor.predict(X)  # make predictions\n",
    "    error = mean_absolute_error(Y, Y_pred)\n",
    "    print(\"Train MAE = {}\".format(error))\n",
    "\n",
    "\n",
    "    X, Y = treat_features(val_data)  # values converts it into a numpy array\n",
    "    Y_pred = linear_regressor.predict(X)  # make predictions\n",
    "    error = mean_absolute_error(Y, Y_pred)\n",
    "    print(\"Validation MAE = {}\".format(error))\n",
    "    return error\n",
    "    \n",
    "    \n",
    "mae_sj = feature_regression(sj_train, sj_val)\n",
    "mae_iq = feature_regression(iq_train, iq_val)\n",
    "\n",
    "mae_total = total_mae(len(sj_val), len(iq_val), mae_sj, mae_iq)\n",
    "print(\"Total Validation MAE = {}\".format(mae_total))\n"
   ]
  },
  {
   "cell_type": "markdown",
   "metadata": {},
   "source": [
    "# Temporal Regression"
   ]
  },
  {
   "cell_type": "code",
   "execution_count": 6,
   "metadata": {},
   "outputs": [],
   "source": [
    "def treat_features(data, lag=1):\n",
    "    Y = data['total_cases'].values.reshape(-1, 1)\n",
    "    Y = np.log(1+Y)\n",
    "    X = [[y[0] for y in Y[i:i+lag].tolist()] for i in range(0, len(Y)-lag)]\n",
    "    Y = Y[lag:]\n",
    "    return np.array(X), np.array(Y)\n",
    "\n",
    "\n",
    "def fit_regression(data_train, data_val, lag):\n",
    "    linear_regressor = LinearRegression()  # create object for the class\n",
    "\n",
    "    X, Y = treat_features(data_train, lag=lag)\n",
    "\n",
    "    linear_regressor.fit(X, Y)  # perform linear regression\n",
    "    Y_pred = linear_regressor.predict(X)  # make predictions\n",
    "    error = mean_absolute_error(Y, Y_pred)\n",
    "    train_mae = error\n",
    "#     print(\"Train MAE = {}\".format(error))\n",
    "\n",
    "    X = [y[0] for y in Y[-lag:]]\n",
    "    Y=[]\n",
    "    for i in range(0, len(data_val)):\n",
    "        nexty = linear_regressor.predict([X])[0][0]\n",
    "        Y.append(nexty)\n",
    "        X = X[1:] + [nexty]\n",
    "\n",
    "    Y = np.exp(Y)-1\n",
    "    true = data_val['total_cases'].values\n",
    "    error = mean_absolute_error(true, Y)\n",
    "    val_mae = error\n",
    "#     print(\"Validation MAE = {}\".format(error))\n",
    "    return [lag, train_mae, val_mae]"
   ]
  },
  {
   "cell_type": "markdown",
   "metadata": {},
   "source": [
    "Plot validation error versus number of samples in autoregressive model(p)"
   ]
  },
  {
   "cell_type": "code",
   "execution_count": 17,
   "metadata": {},
   "outputs": [
    {
     "name": "stdout",
     "output_type": "stream",
     "text": [
      "199.0\n"
     ]
    },
    {
     "data": {
      "image/png": "[encoded data removed]",
      "text/plain": [
       "<Figure size 432x288 with 1 Axes>"
      ]
     },
     "metadata": {
      "needs_background": "light"
     },
     "output_type": "display_data"
    },
    {
     "name": "stdout",
     "output_type": "stream",
     "text": [
      "95.0\n"
     ]
    },
    {
     "data": {
      "image/png": "[encoded data removed]",
      "text/plain": [
       "<Figure size 432x288 with 1 Axes>"
      ]
     },
     "metadata": {
      "needs_background": "light"
     },
     "output_type": "display_data"
    }
   ],
   "source": [
    "a = [fit_regression(sj_train, sj_val, lag=lag) for lag in range(20, 250, 1)]\n",
    "a = np.array(a).T\n",
    "print(a[0][a[2].argmin()])\n",
    "plt.plot(a[0], a[2])\n",
    "plt.title(\"San Juan\")\n",
    "plt.xlabel(\"p\")\n",
    "plt.ylabel(\"Val MAE\")\n",
    "plt.show()\n",
    "\n",
    "a = [fit_regression(iq_train, iq_val, lag=lag) for lag in range(20, 120, 1)]\n",
    "a = np.array(a).T\n",
    "print(a[0][a[2].argmin()])\n",
    "plt.plot(a[0], a[2])\n",
    "plt.title(\"Iquitos\")\n",
    "plt.xlabel(\"p\")\n",
    "plt.ylabel(\"Val MAE\")\n",
    "plt.show()\n"
   ]
  },
  {
   "cell_type": "markdown",
   "metadata": {},
   "source": [
    "# Causal Convolution DNNs"
   ]
  },
  {
   "cell_type": "code",
   "execution_count": null,
   "metadata": {},
   "outputs": [],
   "source": []
  },
  {
   "cell_type": "markdown",
   "metadata": {},
   "source": [
    "# SARIMA Models"
   ]
  },
  {
   "cell_type": "code",
   "execution_count": 18,
   "metadata": {},
   "outputs": [],
   "source": [
    "# Treat Missing data\n",
    "def treat_data(df_train, df_val):\n",
    "    history = df_train['total_cases']\n",
    "    history_exogenous = df_train.drop(['index', 'total_cases', \n",
    "                                       'city', 'year', \n",
    "                                       'week_start_date', 'weekofyear'], \n",
    "                                      axis=1)\n",
    "    history_exogenous.fillna(method='ffill', inplace=True)\n",
    "    val = df_val['total_cases']\n",
    "    return history_exogenous\n",
    "\n",
    "\n",
    "# Select features based on correlation threshold\n",
    "def select_features(data, threshold):\n",
    "    data = data.drop(['index', 'weekofyear', 'week_start_date', 'year'], axis=1)\n",
    "    corr = data.corr()[\"total_cases\"].abs().sort_values()\n",
    "    corr = corr[corr > threshold]\n",
    "    return corr.index\n",
    "\n"
   ]
  },
  {
   "cell_type": "code",
   "execution_count": null,
   "metadata": {},
   "outputs": [],
   "source": [
    "#     decomposition = sm.tsa.seasonal_decompose(history, model='additive', freq=52)\n",
    "#     print(decomposition)\n",
    "#     fig = decomposition.plot()"
   ]
  },
  {
   "cell_type": "code",
   "execution_count": 20,
   "metadata": {},
   "outputs": [],
   "source": [
    "def time_series_analysis(df_train, df_val, log_ratio=False, normalize=False, features=[], optimizer_kwargs={}):\n",
    "    history = df_train['total_cases']\n",
    "    val = df_val['total_cases']\n",
    "    \n",
    "#     decomposition = sm.tsa.seasonal_decompose(history, model='additive', freq=52)\n",
    "#     print(decomposition)\n",
    "#     fig = decomposition.plot()\n",
    "    \n",
    "    history_exogenous=None\n",
    "    val_exogenous=None\n",
    "    if len(features)>0:\n",
    "        history_exogenous = df_train[features].drop('total_cases', axis=1)\n",
    "        history_exogenous.fillna(method='ffill', inplace=True)\n",
    "        history_exogenous.fillna(method='bfill', inplace=True)\n",
    "        \n",
    "        val_exogenous = df_val[features].drop('total_cases', axis=1)\n",
    "        val_exogenous.fillna(method='ffill', inplace=True)\n",
    "        val_exogenous.fillna(method='bfill', inplace=True)\n",
    "        \n",
    "        if normalize:\n",
    "            tmean = history_exogenous.mean()\n",
    "            tmax = history_exogenous.max()\n",
    "            tmin = history_exogenous.min()\n",
    "            history_exogenous = (history_exogenous - tmean) / (tmax - tmin)\n",
    "            val_exogenous = (val_exogenous - tmean) / (tmax - tmin)\n",
    "        \n",
    "    \n",
    "    if log_ratio:\n",
    "        history = np.log(1+history)\n",
    "        val = np.log(1+val)\n",
    "    \n",
    "    # Decomposition for visual analysis\n",
    "    rcParams['figure.figsize'] = 18, 8\n",
    "    \n",
    "    # Fit a Sarimax Model with 1 year sasonality (cant get 3 years to work)\n",
    "    mod = sm.tsa.statespace.SARIMAX(history, exog=history_exogenous, order=(1, 1, 1),\n",
    "                                    seasonal_order=(1, 1, 1, 52),\n",
    "                                    enforce_stationarity=False, enforce_invertibility=False)\n",
    "\n",
    "    results = mod.fit(**optimizer_kwargs)\n",
    "    print('AIC:{}'.format(results.aic))\n",
    "#     print(results.summary().tables[1])\n",
    "#     results.plot_diagnostics(figsize=(18, 8))\n",
    "#     plt.show()\n",
    "    \n",
    "    # Make a prediction for the validation set and compare with ground truth\n",
    "    pred_uc = results.get_forecast(steps=len(val), exog=val_exogenous)\n",
    "#     pred_ci = pred_uc.conf_int()\n",
    "#     ax = val.plot(label='observed', figsize=(14, 4))\n",
    "#     pred_uc.predicted_mean.plot(label='Forecast')\n",
    "#     ax.fill_between(pred_ci.index[:],\n",
    "#                     pred_ci.iloc[:, 0],\n",
    "#                     pred_ci.iloc[:, 1], color='k', alpha=.2)\n",
    "#     ax.set_xlabel('Date')\n",
    "#     ax.set_ylabel('Registered Cases')\n",
    "#     plt.legend()\n",
    "#     plt.show()\n",
    "\n",
    "    predictions = pred_uc.predicted_mean.values\n",
    "    \n",
    "    if log_ratio:\n",
    "        history = np.exp(history)-1\n",
    "        val = np.exp(val) -1\n",
    "    \n",
    "    error = mean_absolute_error(val, predictions)\n",
    "    print('Test MAE: %.3f' % error)\n",
    "\n",
    "    \n"
   ]
  },
  {
   "cell_type": "code",
   "execution_count": 9,
   "metadata": {},
   "outputs": [],
   "source": [
    "# optimizer_kwargs = {\n",
    "#     \"method\": \"newton\"\n",
    "# }\n",
    "# optimizer_kwargs = {\"maxiter\": 1,\n",
    "#                     \"time_varying_regression\": True,\n",
    "#                     \"mle_regression\": False}\n",
    "# optimizer_kwargs = {}\n",
    "# optimizer_kwargs = {}\n",
    "# optimizer_kwargs = {\"maxiter\": 1}"
   ]
  },
  {
   "cell_type": "code",
   "execution_count": null,
   "metadata": {},
   "outputs": [],
   "source": [
    "features = select_features(iq_train, 0.15)\n",
    "\n",
    "time_series_analysis(iq_train, iq_val, optimizer_kwargs=optimizer_kwargs)\n",
    "time_series_analysis(iq_train, iq_val, log_ratio=True, optimizer_kwargs=optimizer_kwargs)\n",
    "time_series_analysis(iq_train, iq_val, normalize=True, optimizer_kwargs=optimizer_kwargs)\n",
    "time_series_analysis(iq_train, iq_val, log_ratio=True, normalize=True, optimizer_kwargs=optimizer_kwargs)\n",
    "\n",
    "time_series_analysis(iq_train, iq_val, features=features,\n",
    "                     optimizer_kwargs=optimizer_kwargs)\n",
    "time_series_analysis(iq_train, iq_val, features=features, normalize=True, \n",
    "                     optimizer_kwargs=optimizer_kwargs)\n",
    "time_series_analysis(iq_train, iq_val, features=features, log_ratio=True, \n",
    "                     optimizer_kwargs=optimizer_kwargs)\n",
    "time_series_analysis(iq_train, iq_val, features=features, log_ratio=True, normalize=True,\n",
    "                     optimizer_kwargs=optimizer_kwargs)"
   ]
  },
  {
   "cell_type": "code",
   "execution_count": null,
   "metadata": {},
   "outputs": [],
   "source": [
    "features = select_features(sj_train, 0.15)\n",
    "\n",
    "\n",
    "\n",
    "time_series_analysis(sj_train, sj_val, optimizer_kwargs=optimizer_kwargs)\n",
    "time_series_analysis(sj_train, sj_val, normalize=True, optimizer_kwargs=optimizer_kwargs)\n",
    "time_series_analysis(sj_train, sj_val, log_ratio=True, optimizer_kwargs=optimizer_kwargs)\n",
    "time_series_analysis(sj_train, sj_val, log_ratio=True, normalize=True, optimizer_kwargs=optimizer_kwargs)\n",
    "\n",
    "time_series_analysis(sj_train, sj_val, features=features,\n",
    "                     optimizer_kwargs=optimizer_kwargs)\n",
    "time_series_analysis(sj_train, sj_val, features=features, normalize=True,\n",
    "                     optimizer_kwargs=optimizer_kwargs)\n",
    "time_series_analysis(sj_train, sj_val, features=features, log_ratio=True, \n",
    "                     optimizer_kwargs=optimizer_kwargs)\n",
    "time_series_analysis(sj_train, sj_val, features=features, log_ratio=True, normalize=True,\n",
    "                     optimizer_kwargs=optimizer_kwargs)"
   ]
  }
 ],
 "metadata": {
  "kernelspec": {
   "display_name": "Python 3",
   "language": "python",
   "name": "python3"
  },
  "language_info": {
   "codemirror_mode": {
    "name": "ipython",
    "version": 3
   },
   "file_extension": ".py",
   "mimetype": "text/x-python",
   "name": "python",
   "nbconvert_exporter": "python",
   "pygments_lexer": "ipython3",
   "version": "3.6.8"
  }
 },
 "nbformat": 4,
 "nbformat_minor": 2
}
