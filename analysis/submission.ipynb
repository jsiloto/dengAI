{
 "cells": [
  {
   "cell_type": "markdown",
   "metadata": {},
   "source": [
    "# Submission Code\n",
    "This is still in development\n"
   ]
  },
  {
   "cell_type": "code",
   "execution_count": null,
   "metadata": {},
   "outputs": [],
   "source": [
    "sj_train, sj_val = split(sj_data, 1.0)\n",
    "iq_train, iq_val = split(iq_data, 1.0)\n",
    "\n",
    "\n",
    "submission = pd.read_csv('../data/submission_format.csv')\n",
    "sj_test = submission[submission['city']==\"sj\"]\n",
    "iq_test = submission[submission['city']==\"iq\"]\n",
    "\n",
    "def fit_regression(data_train, lag, pred_len):\n",
    "    linear_regressor = LinearRegression()  # create object for the class\n",
    "\n",
    "    X, Y = treat_features(data_train, lag=lag)\n",
    "\n",
    "    linear_regressor.fit(X, Y)  # perform linear regression\n",
    "    Y_pred = linear_regressor.predict(X)  # make predictions\n",
    "    error = mean_absolute_error(Y, Y_pred)\n",
    "    train_mae = error\n",
    "#     print(\"Train MAE = {}\".format(error))\n",
    "\n",
    "    X = [y[0] for y in Y[-lag:]]\n",
    "    Y=[]\n",
    "    for i in range(0, pred_len):\n",
    "        nexty = linear_regressor.predict([X])[0][0]\n",
    "        Y.append(nexty)\n",
    "        X = X[1:] + [nexty]\n",
    "\n",
    "    Y = np.exp(Y)-1\n",
    "    return Y\n",
    "\n",
    "\n",
    "y = fit_regression(sj_train, 200, len(sj_test))\n",
    "sj_test['total_cases'] = y.astype(int)\n",
    "print(sj_test)\n"
   ]
  },
  {
   "cell_type": "code",
   "execution_count": null,
   "metadata": {},
   "outputs": [],
   "source": [
    "history = iq_train['total_cases']\n",
    "mod = sm.tsa.statespace.SARIMAX(history, order=(1, 1, 1), seasonal_order=(1, 1, 1, 52),\n",
    "                                    enforce_stationarity=False, enforce_invertibility=False)\n",
    "\n",
    "results = mod.fit()\n",
    "print('AIC:{}'.format(results.aic))"
   ]
  },
  {
   "cell_type": "code",
   "execution_count": null,
   "metadata": {},
   "outputs": [],
   "source": [
    "history = sj_train['total_cases']\n",
    "history = np.log(1+history)\n",
    "mod = sm.tsa.statespace.SARIMAX(history, order=(1, 1, 1), seasonal_order=(1, 1, 1, 52),\n",
    "                                    enforce_stationarity=False, enforce_invertibility=False)\n",
    "results = mod.fit()\n",
    "print('AIC:{}'.format(results.aic))\n",
    "pred_uc = results.get_forecast(steps=len(sj_test))\n",
    "predictions = pred_uc.predicted_mean.values\n",
    "print(predictions)\n",
    "predictions = np.exp(predictions)-1\n",
    "sj_test['total_cases']= predictions.astype(int)\n",
    "print(sj_test)"
   ]
  },
  {
   "cell_type": "code",
   "execution_count": null,
   "metadata": {},
   "outputs": [],
   "source": [
    "alll = pd.concat([sj_test, iq_test])\n",
    "print(alll)\n",
    "alll.to_csv(\"submission.csv\", index=False)"
   ]
  }
 ],
 "metadata": {
  "kernelspec": {
   "display_name": "Python 3",
   "language": "python",
   "name": "python3"
  },
  "language_info": {
   "codemirror_mode": {
    "name": "ipython",
    "version": 3
   },
   "file_extension": ".py",
   "mimetype": "text/x-python",
   "name": "python",
   "nbconvert_exporter": "python",
   "pygments_lexer": "ipython3",
   "version": "3.6.8"
  }
 },
 "nbformat": 4,
 "nbformat_minor": 2
}
